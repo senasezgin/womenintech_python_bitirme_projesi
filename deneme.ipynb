{
 "cells": [
  {
   "cell_type": "code",
   "execution_count": null,
   "metadata": {},
   "outputs": [],
   "source": [
    "len(df[\"location\"].unique())"
   ]
  },
  {
   "cell_type": "code",
   "execution_count": null,
   "metadata": {},
   "outputs": [],
   "source": [
    "#Yaşı 65 yaş ve üstü olan hastaların, 65 yaş altı hastların oranı\n",
    "\n",
    "aged_65_sum = df[\"aged_65_older\"].sum()\n",
    "print(f\" 65 yaşından büyük vakaların toplamı : {aged_65_sum} \")\n",
    "all_case = df[\"new_cases\"].sum() - df[\"aged_65_older\"].sum()\n",
    "print(f\" 65 yaşından küçük vakaların toplamı : {all_case} \")\n",
    "\n",
    "sns.catplot(x = \"aged_65_sum\", y = \"all_case\");"
   ]
  },
  {
   "cell_type": "code",
   "execution_count": null,
   "metadata": {},
   "outputs": [],
   "source": [
    "text = ['Africa ','Asia','Europe',\"North America\", \"Oceania\", \"South America\"]"
   ]
  },
  {
   "cell_type": "code",
   "execution_count": null,
   "metadata": {},
   "outputs": [],
   "source": [
    "plt.bar(text, df.groupby(\"continent\")[\"new_cases\"].mean(), width = 0.25, color = '#4169E1', label =\"New cases sum\")\n",
    "plt.bar(text, df.groupby(\"continent\")[\"new_tests\"].mean(), width = 0.25, color = '#DC143C', label = 'New tests sum')"
   ]
  },
  {
   "cell_type": "code",
   "execution_count": null,
   "metadata": {},
   "outputs": [],
   "source": [
    "text = ['Africa ','Asia','Europe',\"North America\", \"Oceania\", \"South America\"]\n",
    "\n",
    "df.groupby(\"continent\")[\"new_cases\"].mean().pl0t.bar(width= 0.50, color=\"#A09830\")\n",
    "df.groupby(\"continent\")[\"new_tests\"].mean().plot.bar(width= 0.50, color=\"#F08030\")\n",
    "\n",
    "plt.legend()\n"
   ]
  },
  {
   "cell_type": "code",
   "execution_count": null,
   "metadata": {},
   "outputs": [],
   "source": [
    "df.groupby(\"continent\")[\"new_cases\"].mean().world.plot.bar(width= 0.50, color=\"#87CEEB\")"
   ]
  },
  {
   "cell_type": "code",
   "execution_count": null,
   "metadata": {},
   "outputs": [],
   "source": [
    "#Aşılanma yapılmaya başladıktan sonra yeni vakalarda bir değişikilik olmuş mu?\n",
    "df[\"new_tests\"].fillna(value=0, inplace=True)\n",
    "df[\"new_cases\"].fillna(value=0, inplace=True)\n",
    "\n",
    "data = pd.Series(pd.date_range('2020-1-1', periods=36, freq='M'))\n",
    "data = pd.DataFrame(dict(date=data))\n",
    "data.head(36) "
   ]
  },
  {
   "cell_type": "code",
   "execution_count": null,
   "metadata": {},
   "outputs": [],
   "source": [
    "data2 = df.copy()\n",
    "\n",
    "data2 = data2.groupby('date').sum()\n",
    "data2['7 days MA new cases'] = 0\n",
    "data2['7 days MA new cases'] = data2['new_cases'].rolling(12).mean()\n",
    "\n",
    "\n",
    "data2[['new_cases', '7 days MA new cases']].plot(figsize = (11, 5), alpha = 0.5)\n",
    "plt.title('Tarihe göre Yeni Vakalar')\n",
    "plt.xlabel('Tarih')\n",
    "plt.ylabel('Yeni Vaka')"
   ]
  }
 ],
 "metadata": {
  "kernelspec": {
   "display_name": "Python 3.11.0 64-bit",
   "language": "python",
   "name": "python3"
  },
  "language_info": {
   "codemirror_mode": {
    "name": "ipython",
    "version": 3
   },
   "file_extension": ".py",
   "mimetype": "text/x-python",
   "name": "python",
   "nbconvert_exporter": "python",
   "pygments_lexer": "ipython3",
   "version": "3.11.0"
  },
  "orig_nbformat": 4,
  "vscode": {
   "interpreter": {
    "hash": "16b476dd0840967def729226295593b1e8d0fc2e935b165bc49d0efadf670af0"
   }
  }
 },
 "nbformat": 4,
 "nbformat_minor": 2
}
